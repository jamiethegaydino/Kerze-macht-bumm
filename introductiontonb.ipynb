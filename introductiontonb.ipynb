{
 "cells": [
  {
   "cell_type": "code",
   "execution_count": 2,
   "id": "2cb7af15-6666-4a3f-8292-1d4248dc9519",
   "metadata": {
    "editable": true,
    "slideshow": {
     "slide_type": ""
    },
    "tags": []
   },
   "outputs": [
    {
     "name": "stdout",
     "output_type": "stream",
     "text": [
      "Hello world\n"
     ]
    }
   ],
   "source": [
    "print (\"Hello world\")"
   ]
  },
  {
   "cell_type": "markdown",
   "id": "c65895e1-29af-4226-9b75-a8ed5c1f4861",
   "metadata": {
    "editable": true,
    "slideshow": {
     "slide_type": ""
    },
    "tags": []
   },
   "source": [
    "# chapter 1\n",
    "**bold text is like this**\n",
    "*Italic text like this*\n",
    "* list \n",
    "1. list"
   ]
  },
  {
   "cell_type": "markdown",
   "id": "2023edb9-c51b-490f-b83b-bda891f62da5",
   "metadata": {},
   "source": [
    "$$E = mc^2$$\n"
   ]
  },
  {
   "cell_type": "markdown",
   "id": "10831899-fdab-44f0-ba31-1489737da44d",
   "metadata": {},
   "source": [
    "$E = mc^2$\n"
   ]
  },
  {
   "cell_type": "code",
   "execution_count": null,
   "id": "efb6622d-f7a8-46b2-9ab0-d80d191ab71f",
   "metadata": {},
   "outputs": [],
   "source": []
  },
  {
   "cell_type": "markdown",
   "id": "ff5f3292-b3dc-41d4-b0dc-0d8586b31903",
   "metadata": {},
   "source": [
    "Inline code: `print(\"Hello World\")`\n"
   ]
  },
  {
   "cell_type": "code",
   "execution_count": null,
   "id": "19f592dc-8f30-48b1-abe1-32861eba96e4",
   "metadata": {},
   "outputs": [],
   "source": []
  }
 ],
 "metadata": {
  "kernelspec": {
   "display_name": "Python 3 (ipykernel)",
   "language": "python",
   "name": "python3"
  },
  "language_info": {
   "codemirror_mode": {
    "name": "ipython",
    "version": 3
   },
   "file_extension": ".py",
   "mimetype": "text/x-python",
   "name": "python",
   "nbconvert_exporter": "python",
   "pygments_lexer": "ipython3",
   "version": "3.12.4"
  }
 },
 "nbformat": 4,
 "nbformat_minor": 5
}
